{
 "cells": [
  {
   "attachments": {},
   "cell_type": "markdown",
   "metadata": {},
   "source": [
    "# Testes para o código"
   ]
  },
  {
   "cell_type": "code",
   "execution_count": 1,
   "metadata": {},
   "outputs": [
    {
     "ename": "ModuleNotFoundError",
     "evalue": "No module named 'codigos'",
     "output_type": "error",
     "traceback": [
      "\u001b[1;31m---------------------------------------------------------------------------\u001b[0m",
      "\u001b[1;31mModuleNotFoundError\u001b[0m                       Traceback (most recent call last)",
      "Cell \u001b[1;32mIn[1], line 3\u001b[0m\n\u001b[0;32m      1\u001b[0m \u001b[39mimport\u001b[39;00m \u001b[39munittest\u001b[39;00m\n\u001b[1;32m----> 3\u001b[0m \u001b[39mfrom\u001b[39;00m \u001b[39mcodigos\u001b[39;00m \u001b[39mimport\u001b[39;00m otimizador\n\u001b[0;32m      6\u001b[0m \u001b[39mclass\u001b[39;00m \u001b[39mTestOptimizer\u001b[39;00m(unittest\u001b[39m.\u001b[39mTestCase):\n\u001b[0;32m      7\u001b[0m     \u001b[39mdef\u001b[39;00m \u001b[39mtest_optimizer_perfil_a\u001b[39m(\u001b[39mself\u001b[39m):\n",
      "\u001b[1;31mModuleNotFoundError\u001b[0m: No module named 'codigos'"
     ]
    }
   ],
   "source": [
    "import unittest\n",
    "\n",
    "from codigos import otimizador\n",
    "\n",
    "\n",
    "class TestOptimizer(unittest.TestCase):\n",
    "    def test_optimizer_perfil_a(self):\n",
    "        perfil = \"a\"\n",
    "        retorno_esperado = [0.1, 0.2, 0.3]\n",
    "        custo_acao = [1, 2, 3]\n",
    "        risco = [10, 20, 30]\n",
    "        investimento = 5\n",
    "        expected_output = \"Perfil de investimento do cliente: Conservador\\n\\nInvestimentos escolhidos:\\nOpção 1, \\n\\n\"\n",
    "        self.assertEqual(optimizer(perfil), expected_output)\n",
    "\n",
    "    def test_optimizer_perfil_b(self):\n",
    "        perfil = \"b\"\n",
    "        retorno_esperado = [0.1, 0.2, 0.3]\n",
    "        custo_acao = [1, 2, 3]\n",
    "        risco = [10, 20, 30]\n",
    "        investimento = 5\n",
    "        expected_output = \"Perfil de investimento do cliente: Moderado\\n\\nInvestimentos escolhidos:\\nOpção 1, \\n\\n\"\n",
    "        self.assertEqual(optimizer(perfil), expected_output)\n",
    "\n",
    "    def test_optimizer_perfil_c(self):\n",
    "        perfil = \"c\"\n",
    "        retorno_esperado = [0.1, 0.2, 0.3]\n",
    "        custo_acao = [1, 2, 3]\n",
    "        risco = [10, 20, 30]\n",
    "        investimento = 5\n",
    "        expected_output = \"Perfil de investimento do cliente: Arrojado\\n\\nInvestimentos escolhidos:\\nOpção 1, \\n\\n\"\n",
    "        self.assertEqual(optimizer(perfil), expected_output)\n",
    "\n",
    "    def test_optimizer_perfil_invalido(self):\n",
    "        perfil = \"d\"\n",
    "        retorno_esperado = [0.1, 0.2, 0.3]\n",
    "        custo_acao = [1, 2, 3]\n",
    "        risco = [10, 20, 30]\n",
    "        investimento = 5\n",
    "        expected_output = \"O perfil selecionado não é válido!\"\n",
    "        self.assertEqual(optimizer(perfil), expected_output)\n",
    "        \n",
    "teste = TestOptimizer()\n",
    "\n",
    "teste.test_optimizer_perfil_a\n",
    "teste.test_optimizer_perfil_b\n",
    "teste.test_optimizer_perfil_c\n",
    "teste.test_optimizer_perfil_invalido"
   ]
  }
 ],
 "metadata": {
  "kernelspec": {
   "display_name": "Python 3",
   "language": "python",
   "name": "python3"
  },
  "language_info": {
   "codemirror_mode": {
    "name": "ipython",
    "version": 3
   },
   "file_extension": ".py",
   "mimetype": "text/x-python",
   "name": "python",
   "nbconvert_exporter": "python",
   "pygments_lexer": "ipython3",
   "version": "3.9.13"
  },
  "orig_nbformat": 4,
  "vscode": {
   "interpreter": {
    "hash": "fb956671c002f5ba8c66ecf38c08c359dc64efc4c98cdb938f56803a3226db12"
   }
  }
 },
 "nbformat": 4,
 "nbformat_minor": 2
}
