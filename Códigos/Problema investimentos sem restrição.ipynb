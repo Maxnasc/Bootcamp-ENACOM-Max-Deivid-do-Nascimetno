{
 "cells": [
  {
   "attachments": {},
   "cell_type": "markdown",
   "metadata": {},
   "source": [
    "# Algorítmo de resolução do problema proposto sem restrições adicionais"
   ]
  },
  {
   "attachments": {},
   "cell_type": "markdown",
   "metadata": {},
   "source": [
    "Biblioteca de otimização usada: cvxpy"
   ]
  },
  {
   "attachments": {},
   "cell_type": "markdown",
   "metadata": {},
   "source": [
    "# Instalação da biblioteca"
   ]
  },
  {
   "cell_type": "code",
   "execution_count": 9,
   "metadata": {},
   "outputs": [
    {
     "name": "stdout",
     "output_type": "stream",
     "text": [
      "Collecting cvxpy\n",
      "  Downloading cvxpy-1.3.0-cp39-cp39-win_amd64.whl (885 kB)\n",
      "     -------------------------------------- 885.1/885.1 kB 5.1 MB/s eta 0:00:00\n",
      "Collecting scs>=1.1.6\n",
      "  Downloading scs-3.2.2-cp39-cp39-win_amd64.whl (8.2 MB)\n",
      "     ---------------------------------------- 8.2/8.2 MB 4.8 MB/s eta 0:00:00\n",
      "Collecting osqp>=0.4.1\n",
      "  Downloading osqp-0.6.2.post8-cp39-cp39-win_amd64.whl (292 kB)\n",
      "     -------------------------------------- 292.5/292.5 kB 6.0 MB/s eta 0:00:00\n",
      "Requirement already satisfied: setuptools<=64.0.2 in c:\\program files\\windowsapps\\pythonsoftwarefoundation.python.3.9_3.9.3568.0_x64__qbz5n2kfra8p0\\lib\\site-packages (from cvxpy) (58.1.0)\n",
      "Requirement already satisfied: scipy>=1.1.0 in c:\\users\\maxna\\appdata\\local\\packages\\pythonsoftwarefoundation.python.3.9_qbz5n2kfra8p0\\localcache\\local-packages\\python39\\site-packages (from cvxpy) (1.10.0)\n",
      "Requirement already satisfied: numpy>=1.15 in c:\\users\\maxna\\appdata\\local\\packages\\pythonsoftwarefoundation.python.3.9_qbz5n2kfra8p0\\localcache\\local-packages\\python39\\site-packages (from cvxpy) (1.23.0)\n",
      "Collecting ecos>=2\n",
      "  Downloading ecos-2.0.12-cp39-cp39-win_amd64.whl (72 kB)\n",
      "     ---------------------------------------- 72.0/72.0 kB 4.1 MB/s eta 0:00:00\n",
      "Collecting qdldl\n",
      "  Downloading qdldl-0.1.5.post3-cp39-cp39-win_amd64.whl (83 kB)\n",
      "     -------------------------------------- 83.2/83.2 kB 775.7 kB/s eta 0:00:00\n",
      "Installing collected packages: scs, qdldl, ecos, osqp, cvxpy\n",
      "Successfully installed cvxpy-1.3.0 ecos-2.0.12 osqp-0.6.2.post8 qdldl-0.1.5.post3 scs-3.2.2\n",
      "\n",
      "[notice] A new release of pip available: 22.1.2 -> 23.0\n",
      "[notice] To update, run: C:\\Users\\maxna\\AppData\\Local\\Microsoft\\WindowsApps\\PythonSoftwareFoundation.Python.3.9_qbz5n2kfra8p0\\python.exe -m pip install --upgrade pip\n"
     ]
    }
   ],
   "source": [
    "%pip install cvxpy"
   ]
  },
  {
   "attachments": {},
   "cell_type": "markdown",
   "metadata": {},
   "source": [
    "# Declaração da classse de dados"
   ]
  },
  {
   "cell_type": "code",
   "execution_count": 14,
   "metadata": {},
   "outputs": [],
   "source": [
    "# Classe de dados\n",
    "\n",
    "from dataclasses import dataclass\n",
    "\n",
    "@dataclass\n",
    "class ValuableItem:\n",
    "    opcao: str\n",
    "    value: float\n",
    "    retorno_esperado: float\n",
    "\n",
    "    @property\n",
    "    def value_razao(self) -> float:\n",
    "        \"Returns retorno esperado / value\"\n",
    "        return self.retorno_esperado / (self.value + 1e-9)"
   ]
  },
  {
   "attachments": {},
   "cell_type": "markdown",
   "metadata": {},
   "source": [
    "### Função de montagem da tabela"
   ]
  },
  {
   "cell_type": "code",
   "execution_count": 15,
   "metadata": {},
   "outputs": [],
   "source": [
    "import pandas as pd \n",
    "from typing import List\n",
    "\n",
    "def items_to_table(opcao: List[ValuableItem]) -> pd.DataFrame:\n",
    "  records = [{\n",
    "          'Opção': i.opcao,\n",
    "          'Valor ($)': i.value,\n",
    "          'Retorno esperado ($)': i.retorno_esperado\n",
    "  } for i in opcao]\n",
    "  records.append({\n",
    "    'Opcao': 'Total',\n",
    "    'Valor ($)': sum(i.value for i in opcao),\n",
    "    'Retorno esperado ($)': sum(i.retorno_esperado for i in opcao)\n",
    "  })\n",
    "  return pd.DataFrame.from_records(records)"
   ]
  },
  {
   "attachments": {},
   "cell_type": "markdown",
   "metadata": {},
   "source": [
    "### Declaração dos dados de entrada"
   ]
  },
  {
   "cell_type": "code",
   "execution_count": 17,
   "metadata": {},
   "outputs": [
    {
     "data": {
      "text/html": [
       "<div>\n",
       "<style scoped>\n",
       "    .dataframe tbody tr th:only-of-type {\n",
       "        vertical-align: middle;\n",
       "    }\n",
       "\n",
       "    .dataframe tbody tr th {\n",
       "        vertical-align: top;\n",
       "    }\n",
       "\n",
       "    .dataframe thead th {\n",
       "        text-align: right;\n",
       "    }\n",
       "</style>\n",
       "<table border=\"1\" class=\"dataframe\">\n",
       "  <thead>\n",
       "    <tr style=\"text-align: right;\">\n",
       "      <th></th>\n",
       "      <th>Opção</th>\n",
       "      <th>Valor ($)</th>\n",
       "      <th>Retorno esperado ($)</th>\n",
       "      <th>Opcao</th>\n",
       "    </tr>\n",
       "  </thead>\n",
       "  <tbody>\n",
       "    <tr>\n",
       "      <th>0</th>\n",
       "      <td>opcao 1</td>\n",
       "      <td>470006</td>\n",
       "      <td>410000</td>\n",
       "      <td>NaN</td>\n",
       "    </tr>\n",
       "    <tr>\n",
       "      <th>1</th>\n",
       "      <td>opcao 2</td>\n",
       "      <td>400000</td>\n",
       "      <td>330000</td>\n",
       "      <td>NaN</td>\n",
       "    </tr>\n",
       "    <tr>\n",
       "      <th>2</th>\n",
       "      <td>opcao 3</td>\n",
       "      <td>176000</td>\n",
       "      <td>140000</td>\n",
       "      <td>NaN</td>\n",
       "    </tr>\n",
       "    <tr>\n",
       "      <th>3</th>\n",
       "      <td>opcao 4</td>\n",
       "      <td>270000</td>\n",
       "      <td>250000</td>\n",
       "      <td>NaN</td>\n",
       "    </tr>\n",
       "    <tr>\n",
       "      <th>4</th>\n",
       "      <td>opcao 5</td>\n",
       "      <td>340000</td>\n",
       "      <td>326000</td>\n",
       "      <td>NaN</td>\n",
       "    </tr>\n",
       "    <tr>\n",
       "      <th>5</th>\n",
       "      <td>opcao 6</td>\n",
       "      <td>230000</td>\n",
       "      <td>326000</td>\n",
       "      <td>NaN</td>\n",
       "    </tr>\n",
       "    <tr>\n",
       "      <th>6</th>\n",
       "      <td>opcao 7</td>\n",
       "      <td>50000</td>\n",
       "      <td>90000</td>\n",
       "      <td>NaN</td>\n",
       "    </tr>\n",
       "    <tr>\n",
       "      <th>7</th>\n",
       "      <td>opcao 8</td>\n",
       "      <td>440000</td>\n",
       "      <td>190006</td>\n",
       "      <td>NaN</td>\n",
       "    </tr>\n",
       "    <tr>\n",
       "      <th>8</th>\n",
       "      <td>NaN</td>\n",
       "      <td>2376006</td>\n",
       "      <td>2062006</td>\n",
       "      <td>Total</td>\n",
       "    </tr>\n",
       "  </tbody>\n",
       "</table>\n",
       "</div>"
      ],
      "text/plain": [
       "     Opção  Valor ($)  Retorno esperado ($)  Opcao\n",
       "0  opcao 1     470006                410000    NaN\n",
       "1  opcao 2     400000                330000    NaN\n",
       "2  opcao 3     176000                140000    NaN\n",
       "3  opcao 4     270000                250000    NaN\n",
       "4  opcao 5     340000                326000    NaN\n",
       "5  opcao 6     230000                326000    NaN\n",
       "6  opcao 7      50000                 90000    NaN\n",
       "7  opcao 8     440000                190006    NaN\n",
       "8      NaN    2376006               2062006  Total"
      ]
     },
     "execution_count": 17,
     "metadata": {},
     "output_type": "execute_result"
    }
   ],
   "source": [
    "capacity = 1000000\n",
    "valores = [\n",
    "  470006,400000,176000,270000,340000,230000,50000,440000] #pesos\n",
    "\n",
    "retorno_esperado = [\n",
    "  410000,330000,140000,250000,326000,326000,90000,190006] # utilidade\n",
    "\n",
    "available_items = [ValuableItem(f'opcao {i+1}', v, w) for i, (v, w) in enumerate(zip(valores, retorno_esperado))] \n",
    "\n",
    "items_to_table(available_items)"
   ]
  },
  {
   "attachments": {},
   "cell_type": "markdown",
   "metadata": {},
   "source": [
    "# Algorítmo antigo"
   ]
  },
  {
   "cell_type": "code",
   "execution_count": 8,
   "metadata": {},
   "outputs": [
    {
     "name": "stdout",
     "output_type": "stream",
     "text": [
      "Selected items: [0. 1. 0. 1. 0. 1. 1. 0.]\n",
      "Optimal value: 996000.0\n"
     ]
    },
    {
     "name": "stderr",
     "output_type": "stream",
     "text": [
      "C:\\Users\\maxna\\AppData\\Local\\Packages\\PythonSoftwareFoundation.Python.3.9_qbz5n2kfra8p0\\LocalCache\\local-packages\\Python39\\site-packages\\cvxpy\\expressions\\expression.py:612: UserWarning: \n",
      "This use of ``*`` has resulted in matrix multiplication.\n",
      "Using ``*`` for matrix multiplication has been deprecated since CVXPY 1.1.\n",
      "    Use ``*`` for matrix-scalar and vector-scalar multiplication.\n",
      "    Use ``@`` for matrix-matrix and matrix-vector multiplication.\n",
      "    Use ``multiply`` for elementwise multiplication.\n",
      "This code path has been hit 3 times so far.\n",
      "\n",
      "  warnings.warn(msg, UserWarning)\n",
      "C:\\Users\\maxna\\AppData\\Local\\Packages\\PythonSoftwareFoundation.Python.3.9_qbz5n2kfra8p0\\LocalCache\\local-packages\\Python39\\site-packages\\cvxpy\\expressions\\expression.py:612: UserWarning: \n",
      "This use of ``*`` has resulted in matrix multiplication.\n",
      "Using ``*`` for matrix multiplication has been deprecated since CVXPY 1.1.\n",
      "    Use ``*`` for matrix-scalar and vector-scalar multiplication.\n",
      "    Use ``@`` for matrix-matrix and matrix-vector multiplication.\n",
      "    Use ``multiply`` for elementwise multiplication.\n",
      "This code path has been hit 4 times so far.\n",
      "\n",
      "  warnings.warn(msg, UserWarning)\n"
     ]
    }
   ],
   "source": [
    "import cvxpy as cp\n",
    "\n",
    "def knapsack(values, weights, capacity):\n",
    "    x = cp.Variable(len(values), boolean=True)\n",
    "    objective = cp.Maximize(values * x)\n",
    "    constraints = [weights * x <= capacity,\n",
    "                   x >= 0,\n",
    "                   x <= 1]\n",
    "    prob = cp.Problem(objective, constraints)\n",
    "    prob.solve()\n",
    "    return prob.value, x.value\n",
    "\n",
    "values = retorno_esperado\n",
    "weights = valores\n",
    "capacity = capacity\n",
    "\n",
    "optimal_value, selected_items = knapsack(values, weights, capacity)\n",
    "print(f'Selected items: {selected_items}')\n",
    "print(f'Optimal value: {optimal_value}')"
   ]
  },
  {
   "attachments": {},
   "cell_type": "markdown",
   "metadata": {},
   "source": [
    "# Algoritmo novo com classes"
   ]
  },
  {
   "cell_type": "code",
   "execution_count": 18,
   "metadata": {},
   "outputs": [
    {
     "name": "stdout",
     "output_type": "stream",
     "text": [
      "Solução ótima: 996000.0\n",
      "Itens selecionados: [0, 1, 0, 1, 0, 1, 1, 0]\n"
     ]
    }
   ],
   "source": [
    "import cvxpy as cp\n",
    "\n",
    "class KnapsackProblem:\n",
    "    def __init__(self, values, weights, capacity):\n",
    "        self.values = values\n",
    "        self.weights = weights\n",
    "        self.capacity = capacity\n",
    "        self.x = cp.Variable(len(values), boolean=True)\n",
    "        self.objective = cp.Maximize(cp.sum(cp.multiply(values, self.x)))\n",
    "        self.constraints = [cp.sum(cp.multiply(weights, self.x)) <= capacity,\n",
    "                            self.x >= 0, self.x <= 1]\n",
    "        self.prob = cp.Problem(self.objective, self.constraints)\n",
    "\n",
    "    def solve(self):\n",
    "        result = self.prob.solve()\n",
    "        return result, [int(val) for val in self.x.value]\n",
    "\n",
    "# Define os valores, pesos e capacidade da mochila\n",
    "values = retorno_esperado\n",
    "weights = valores\n",
    "capacity = capacity\n",
    "\n",
    "# Cria uma instância da classe KnapsackProblem\n",
    "knapsack_problem = KnapsackProblem(values, weights, capacity)\n",
    "\n",
    "# Resolve o problema da mochila\n",
    "result, selected_items = knapsack_problem.solve()\n",
    "\n",
    "# Imprime a solução\n",
    "print(\"Solução ótima:\", result)\n",
    "print(\"Itens selecionados:\", selected_items)"
   ]
  }
 ],
 "metadata": {
  "kernelspec": {
   "display_name": "Python 3",
   "language": "python",
   "name": "python3"
  },
  "language_info": {
   "codemirror_mode": {
    "name": "ipython",
    "version": 3
   },
   "file_extension": ".py",
   "mimetype": "text/x-python",
   "name": "python",
   "nbconvert_exporter": "python",
   "pygments_lexer": "ipython3",
   "version": "3.9.13"
  },
  "orig_nbformat": 4,
  "vscode": {
   "interpreter": {
    "hash": "fb956671c002f5ba8c66ecf38c08c359dc64efc4c98cdb938f56803a3226db12"
   }
  }
 },
 "nbformat": 4,
 "nbformat_minor": 2
}
