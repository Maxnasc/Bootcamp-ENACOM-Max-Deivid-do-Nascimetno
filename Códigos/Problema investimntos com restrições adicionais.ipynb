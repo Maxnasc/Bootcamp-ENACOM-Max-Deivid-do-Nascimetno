{
 "cells": [
  {
   "attachments": {},
   "cell_type": "markdown",
   "metadata": {},
   "source": [
    "## Algorítmo de resolução do problema proposto com restrições adicionais"
   ]
  },
  {
   "attachments": {},
   "cell_type": "markdown",
   "metadata": {},
   "source": [
    "Restrições adicionais inseridas no problema:\n",
    "\n",
    "    * Restrição 01\n",
    "    \n",
    "    1. Restrição 01"
   ]
  },
  {
   "cell_type": "code",
   "execution_count": 2,
   "metadata": {},
   "outputs": [],
   "source": []
  }
 ],
 "metadata": {
  "kernelspec": {
   "display_name": "Python 3",
   "language": "python",
   "name": "python3"
  },
  "language_info": {
   "codemirror_mode": {
    "name": "ipython",
    "version": 3
   },
   "file_extension": ".py",
   "mimetype": "text/x-python",
   "name": "python",
   "nbconvert_exporter": "python",
   "pygments_lexer": "ipython3",
   "version": "3.9.13"
  },
  "orig_nbformat": 4,
  "vscode": {
   "interpreter": {
    "hash": "fb956671c002f5ba8c66ecf38c08c359dc64efc4c98cdb938f56803a3226db12"
   }
  }
 },
 "nbformat": 4,
 "nbformat_minor": 2
}
